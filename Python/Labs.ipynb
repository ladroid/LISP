{
 "cells": [
  {
   "cell_type": "code",
   "execution_count": 5,
   "metadata": {},
   "outputs": [
    {
     "name": "stdout",
     "output_type": "stream",
     "text": [
      "40824\n"
     ]
    }
   ],
   "source": [
    "#Lab1 Python\n",
    "import time\n",
    "start = time.time()\n",
    "\n",
    "num = '\\\n",
    "73167176531330624919225119674426574742355349194934\\\n",
    "96983520312774506326239578318016984801869478851843\\\n",
    "85861560789112949495459501737958331952853208805511\\\n",
    "12540698747158523863050715693290963295227443043557\\\n",
    "66896648950445244523161731856403098711121722383113\\\n",
    "62229893423380308135336276614282806444486645238749\\\n",
    "30358907296290491560440772390713810515859307960866\\\n",
    "70172427121883998797908792274921901699720888093776\\\n",
    "65727333001053367881220235421809751254540594752243\\\n",
    "52584907711670556013604839586446706324415722155397\\\n",
    "53697817977846174064955149290862569321978468622482\\\n",
    "83972241375657056057490261407972968652414535100474\\\n",
    "82166370484403199890008895243450658541227588666881\\\n",
    "16427171479924442928230863465674813919123162824586\\\n",
    "17866458359124566529476545682848912883142607690042\\\n",
    "24219022671055626321111109370544217506941658960408\\\n",
    "07198403850962455444362981230987879927244284909188\\\n",
    "84580156166097919133875499200524063689912560717606\\\n",
    "05886116467109405077541002256983155200055935729725\\\n",
    "71636269561882670428252483600823257530420752963450'\n",
    "\n",
    "biggest = 0\n",
    "i = 0\n",
    "while i < len(num) - 4:\n",
    "    one = int(num[i]) \n",
    "    two = int(num[i+1])  \n",
    "    thr = int(num[i+2]) \n",
    "    fou = int(num[i+3])\n",
    "    fiv = int(num[i+4])\n",
    "    product = one*two*thr*fou*fiv\n",
    "    if product > biggest:\n",
    "        biggest = product\n",
    "    i = i + 1 \n",
    "print(biggest)"
   ]
  },
  {
   "cell_type": "code",
   "execution_count": 2,
   "metadata": {},
   "outputs": [
    {
     "name": "stdout",
     "output_type": "stream",
     "text": [
      "True\n"
     ]
    }
   ],
   "source": [
    "#Lab3\n",
    "def anagramSolution1(s1,s2):\n",
    "    alist = list(s2)\n",
    "\n",
    "    pos1 = 0\n",
    "    stillOK = True\n",
    "\n",
    "    while pos1 < len(s1) and stillOK:\n",
    "        pos2 = 0\n",
    "        found = False\n",
    "        while pos2 < len(alist) and not found:\n",
    "            if s1[pos1] == alist[pos2]:\n",
    "                found = True\n",
    "            else:\n",
    "                pos2 = pos2 + 1\n",
    "\n",
    "        if found:\n",
    "            alist[pos2] = None\n",
    "        else:\n",
    "            stillOK = False\n",
    "\n",
    "        pos1 = pos1 + 1\n",
    "\n",
    "    return stillOK\n",
    "\n",
    "print(anagramSolution1('abcd','dcba'))"
   ]
  },
  {
   "cell_type": "code",
   "execution_count": 6,
   "metadata": {},
   "outputs": [
    {
     "name": "stdout",
     "output_type": "stream",
     "text": [
      "Enter the file to check: test.txt\n",
      "The number of consonants is:  3\n"
     ]
    }
   ],
   "source": [
    "#Lab2\n",
    "import collections\n",
    "\n",
    "fileName = input(\"Enter the file to check: \").strip()\n",
    "infile = open(fileName, \"r\")\n",
    "c = collections.Counter(infile.read())\n",
    "\n",
    "cons = set(\"b c d f g h j k l m n p q r s t v w x z B C D F G H J K L M N P Q R S T V W X Z\")\n",
    "countC = sum(c[k] for k in c if k in cons)\n",
    "print(\"The number of consonants is: \",countC)"
   ]
  },
  {
   "cell_type": "code",
   "execution_count": 10,
   "metadata": {},
   "outputs": [
    {
     "name": "stdout",
     "output_type": "stream",
     "text": [
      "{1, -3}\n",
      "{2, -2}\n",
      "{3, -1}\n",
      "{0, 4}\n",
      "-3 : {1, -3}\n",
      "-2 : {2, -2}\n",
      "-1 : {3, -1}\n",
      "0 : {0, 4}\n",
      "1 : {1, -3}\n",
      "2 : {2, -2}\n",
      "3 : {3, -1}\n",
      "4 : {0, 4}\n"
     ]
    }
   ],
   "source": [
    "def equivalence_partition(iterable, relation):\n",
    "    classes = []\n",
    "    partitions = {}\n",
    "    for o in iterable: \n",
    "        found = False\n",
    "        for c in classes:\n",
    "            if relation(next(iter(c)), o):  \n",
    "                c.add(o)\n",
    "                partitions[o] = c\n",
    "                found = True\n",
    "                break\n",
    "        if not found:  # it is in a new class\n",
    "            classes.append(set([o]))\n",
    "            partitions[o] = classes[-1]\n",
    "    return classes, partitions\n",
    "\n",
    "\n",
    "def equivalence_enumeration(iterable, relation):\n",
    "    classes, partitions = equivalence_partition(iterable, relation)\n",
    "    ids = {}\n",
    "    for i, c in enumerate(classes):\n",
    "        for o in c:\n",
    "            ids[o] = i\n",
    "    return classes, partitions, ids\n",
    "\n",
    "\n",
    "def check_equivalence_partition(classes, partitions, relation):\n",
    "    for o, c in partitions.items():\n",
    "        for _c in classes:\n",
    "            assert (o in _c) ^ (not _c is c)\n",
    "    for c1 in classes:\n",
    "        for o1 in c1:\n",
    "            for c2 in classes:\n",
    "                for o2 in c2:\n",
    "                    assert (c1 is c2) ^ (not relation(o1, o2))\n",
    "\n",
    "\n",
    "def test_equivalence_partition():\n",
    "    relation = lambda x, y: (x - y) % 4 == 0\n",
    "    classes, partitions = equivalence_partition(\n",
    "        range(-3, 5),\n",
    "        relation\n",
    "    )\n",
    "    check_equivalence_partition(classes, partitions, relation)\n",
    "    for c in classes: print(c)\n",
    "    for o, c in partitions.items(): print(o, ':', c)\n",
    "\n",
    "\n",
    "if __name__ == '__main__':\n",
    "    test_equivalence_partition()"
   ]
  },
  {
   "cell_type": "code",
   "execution_count": null,
   "metadata": {},
   "outputs": [],
   "source": []
  }
 ],
 "metadata": {
  "kernelspec": {
   "display_name": "Python 3",
   "language": "python",
   "name": "python3"
  },
  "language_info": {
   "codemirror_mode": {
    "name": "ipython",
    "version": 3
   },
   "file_extension": ".py",
   "mimetype": "text/x-python",
   "name": "python",
   "nbconvert_exporter": "python",
   "pygments_lexer": "ipython3",
   "version": "3.7.1"
  }
 },
 "nbformat": 4,
 "nbformat_minor": 2
}
